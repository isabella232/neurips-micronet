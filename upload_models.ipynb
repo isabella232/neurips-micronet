{
 "cells": [
  {
   "cell_type": "code",
   "execution_count": null,
   "metadata": {
    "ExecuteTime": {
     "end_time": "2020-05-15T01:53:38.443229Z",
     "start_time": "2020-05-15T01:53:23.198091Z"
    }
   },
   "outputs": [],
   "source": [
    "import dropbox\n",
    "from u import *\n",
    "\n",
    "dbx = dropbox.Dropbox(os.environ['DROPBOX_TOKEN'])\n",
    "dbx.users_get_current_account()\n",
    "\n",
    "def upload(src_path, dst_path):\n",
    "    print('Uploading file', src_path, 'to', dst_path)\n",
    "    f = open(src_path, 'rb')\n",
    "    file_size = os.path.getsize(src_path)\n",
    "\n",
    "    CHUNK_SIZE = 4 * 1024 * 1024\n",
    "\n",
    "    if file_size <= CHUNK_SIZE:\n",
    "        print(dbx.files_upload(f.read(), dst_path))\n",
    "    else:\n",
    "        upload_session_start_result = dbx.files_upload_session_start(f.read(CHUNK_SIZE))\n",
    "        cursor = dropbox.files.UploadSessionCursor(session_id=upload_session_start_result.session_id,\n",
    "                                                   offset=f.tell())\n",
    "        commit = dropbox.files.CommitInfo(path=dst_path)\n",
    "\n",
    "        while f.tell() < file_size:\n",
    "            if ((file_size - f.tell()) <= CHUNK_SIZE):\n",
    "                print(dbx.files_upload_session_finish(f.read(CHUNK_SIZE), cursor, commit))\n",
    "            else:\n",
    "                dbx.files_upload_session_append(f.read(CHUNK_SIZE),\n",
    "                                                cursor.session_id,\n",
    "                                                cursor.offset)\n",
    "                cursor.offset = f.tell()"
   ]
  },
  {
   "cell_type": "code",
   "execution_count": null,
   "metadata": {
    "ExecuteTime": {
     "end_time": "2020-05-15T02:18:08.499122Z",
     "start_time": "2020-05-15T01:53:38.446580Z"
    }
   },
   "outputs": [],
   "source": [
    "for exp in Res.ls()[0]:\n",
    "    c = Config(exp)\n",
    "    max_step = max(c.get_saved_model_steps())\n",
    "    path = c.model_save(max_step).rel('.')\n",
    "    upload(path, '/' + path)"
   ]
  },
  {
   "cell_type": "code",
   "execution_count": null,
   "metadata": {},
   "outputs": [],
   "source": []
  }
 ],
 "metadata": {
  "kernelspec": {
   "display_name": "Python 3",
   "language": "python",
   "name": "python3"
  },
  "language_info": {
   "codemirror_mode": {
    "name": "ipython",
    "version": 3
   },
   "file_extension": ".py",
   "mimetype": "text/x-python",
   "name": "python",
   "nbconvert_exporter": "python",
   "pygments_lexer": "ipython3",
   "version": "3.6.10"
  },
  "toc": {
   "base_numbering": 1,
   "nav_menu": {},
   "number_sections": true,
   "sideBar": true,
   "skip_h1_title": false,
   "title_cell": "Table of Contents",
   "title_sidebar": "Contents",
   "toc_cell": false,
   "toc_position": {},
   "toc_section_display": true,
   "toc_window_display": false
  }
 },
 "nbformat": 4,
 "nbformat_minor": 4
}
