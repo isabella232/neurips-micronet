{
 "cells": [
  {
   "cell_type": "code",
   "execution_count": 7,
   "metadata": {
    "ExecuteTime": {
     "end_time": "2020-05-07T01:34:28.762353Z",
     "start_time": "2020-05-07T01:33:58.058233Z"
    }
   },
   "outputs": [
    {
     "name": "stdout",
     "output_type": "stream",
     "text": [
      "--2020-05-06 21:34:03--  https://s3.amazonaws.com/research.metamind.io/wikitext/wikitext-103-v1.zip\n",
      "Resolving s3.amazonaws.com (s3.amazonaws.com)... 52.216.88.5\n",
      "Connecting to s3.amazonaws.com (s3.amazonaws.com)|52.216.88.5|:443... connected.\n",
      "HTTP request sent, awaiting response... 200 OK\n",
      "Length: 190229076 (181M) [application/zip]\n",
      "Saving to: ‘data.zip’\n",
      "\n",
      "data.zip            100%[===================>] 181.42M  14.3MB/s    in 13s     \n",
      "\n",
      "2020-05-06 21:34:16 (14.1 MB/s) - ‘data.zip’ saved [190229076/190229076]\n",
      "\n",
      "Archive:  data.zip\n",
      "   creating: wikitext-103/\n",
      "  inflating: wikitext-103/wiki.test.tokens  \n",
      "  inflating: wikitext-103/wiki.valid.tokens  \n",
      "  inflating: wikitext-103/wiki.train.tokens  \n"
     ]
    }
   ],
   "source": [
    "! mkdir -p data && cd data && wget -O data.zip https://s3.amazonaws.com/research.metamind.io/wikitext/wikitext-103-v1.zip && unzip data.zip && rm data.zip"
   ]
  },
  {
   "cell_type": "code",
   "execution_count": 1,
   "metadata": {
    "ExecuteTime": {
     "end_time": "2020-05-07T02:18:00.834450Z",
     "start_time": "2020-05-07T02:17:52.698891Z"
    }
   },
   "outputs": [],
   "source": [
    "from u import *\n",
    "\n",
    "import os\n",
    "import torch\n",
    "\n",
    "from collections import Counter\n",
    "\n",
    "class Corpus:\n",
    "    def __init__(self, word2idx, path):\n",
    "        self.word2idx = word2idx\n",
    "        self.train = self.tokenize(path % 'train')\n",
    "        self.valid = self.tokenize(path % 'valid')\n",
    "        self.test = self.tokenize(path % 'test')\n",
    "\n",
    "    def tokenize(self, path):\n",
    "        tokens = []\n",
    "        with open(path, 'r') as f:\n",
    "            for line in f:\n",
    "                words = line.split() + ['<eos>']\n",
    "                for w in words:\n",
    "                    tokens.append(self.word2idx[w])\n",
    "        return np.array(tokens)\n",
    "\n",
    "%load_ext autoreload\n",
    "%autoreload 2"
   ]
  },
  {
   "cell_type": "code",
   "execution_count": 5,
   "metadata": {
    "ExecuteTime": {
     "end_time": "2020-05-07T02:24:19.702680Z",
     "start_time": "2020-05-07T02:18:46.997584Z"
    }
   },
   "outputs": [],
   "source": [
    "# For compatibility, we use a precomputed vocab sorted from most to least occurence in the training set\n",
    "idx2word = (Cache / 'sorted_vocab.npy').load()\n",
    "word2idx = {w: i for i, w in enumerate(idx2word)}\n",
    "assert len(word2idx) == 267735\n",
    "# Might take 5-10 minutes to run\n",
    "corpus = Corpus(word2idx, Data / 'wikitext-103/wiki.%s.tokens')"
   ]
  },
  {
   "cell_type": "code",
   "execution_count": 6,
   "metadata": {
    "ExecuteTime": {
     "end_time": "2020-05-07T02:24:47.628075Z",
     "start_time": "2020-05-07T02:24:19.704745Z"
    }
   },
   "outputs": [],
   "source": [
    "train_counts = Counter(corpus.train)\n",
    "for i, (token, count) in enumerate(train_counts.most_common()): # Check that our vocab is indeed sorted\n",
    "    assert count == train_counts[i]"
   ]
  },
  {
   "cell_type": "code",
   "execution_count": 17,
   "metadata": {
    "ExecuteTime": {
     "end_time": "2020-05-07T03:14:49.722616Z",
     "start_time": "2020-05-07T03:12:02.173960Z"
    }
   },
   "outputs": [],
   "source": [
    "for k in 'train', 'valid', 'test':\n",
    "    ((Cache / 'wikitext-103').mk() / 'sorted_' + k + '.npy').save(getattr(corpus, k).astype(np.int32))"
   ]
  }
 ],
 "metadata": {
  "kernelspec": {
   "display_name": "Python 3",
   "language": "python",
   "name": "python3"
  },
  "language_info": {
   "codemirror_mode": {
    "name": "ipython",
    "version": 3
   },
   "file_extension": ".py",
   "mimetype": "text/x-python",
   "name": "python",
   "nbconvert_exporter": "python",
   "pygments_lexer": "ipython3",
   "version": "3.6.10"
  },
  "toc": {
   "base_numbering": 1,
   "nav_menu": {},
   "number_sections": true,
   "sideBar": true,
   "skip_h1_title": false,
   "title_cell": "Table of Contents",
   "title_sidebar": "Contents",
   "toc_cell": false,
   "toc_position": {},
   "toc_section_display": true,
   "toc_window_display": false
  }
 },
 "nbformat": 4,
 "nbformat_minor": 2
}
